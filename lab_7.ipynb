{
 "cells": [
  {
   "cell_type": "code",
   "execution_count": 26,
   "metadata": {},
   "outputs": [
    {
     "name": "stdout",
     "output_type": "stream",
     "text": [
      "344.44376226780787\n"
     ]
    }
   ],
   "source": [
    "import numpy as np\n",
    "import skfuzzy as fuzz\n",
    "from skfuzzy import control as ctrl\n",
    "\n",
    "# Define the antecedents and consequent\n",
    "range_d = ctrl.Antecedent(np.arange(0, 1000, 1), 'range')\n",
    "angle_a = ctrl.Antecedent(np.arange(0, 90, 1), 'angle')\n",
    "air_resistance_k = ctrl.Antecedent(np.arange(0, 1, 0.01), 'air_resistance')\n",
    "initial_velocity = ctrl.Consequent(np.arange(0, 1000, 1), 'initial_velocity')\n",
    "\n",
    "range_d['low'] = fuzz.trimf(range_d.universe, [0, 0, 1000])\n",
    "range_d['high'] = fuzz.trimf(range_d.universe, [0, 1000, 1000])\n",
    "\n",
    "angle_a['low'] = fuzz.trimf(angle_a.universe, [0, 0, 45])\n",
    "angle_a['medium'] = fuzz.trimf(angle_a.universe, [0, 45, 90])\n",
    "angle_a['high'] = fuzz.trimf(angle_a.universe, [45, 90, 90])\n",
    "\n",
    "air_resistance_k['low'] = fuzz.trimf(air_resistance_k.universe, [0, 0, 1])\n",
    "air_resistance_k['high'] = fuzz.trimf(air_resistance_k.universe, [0, 1, 1])\n",
    "\n",
    "initial_velocity['low'] = fuzz.trimf(initial_velocity.universe, [0, 0, 1000])\n",
    "initial_velocity['high'] = fuzz.trimf(initial_velocity.universe, [0, 1000, 1000])\n",
    "\n",
    "# Define the fuzzy rules\n",
    "# rule1 = ctrl.Rule(range_d['low'] & angle_a['low'] & air_resistance_k['low'], initial_velocity['low'])\n",
    "# rule2 = ctrl.Rule(range_d['low'] & angle_a['low'] & air_resistance_k['high'], initial_velocity['low'])\n",
    "# rule3 = ctrl.Rule(range_d['low'] & angle_a['medium'] & air_resistance_k['low'], initial_velocity['low'])\n",
    "# rule4 = ctrl.Rule(range_d['low'] & angle_a['medium'] & air_resistance_k['high'], initial_velocity['low'])\n",
    "# rule5 = ctrl.Rule(range_d['low'] & angle_a['high'] & air_resistance_k['low'], initial_velocity['high'])\n",
    "# rule6 = ctrl.Rule(range_d['low'] & angle_a['high'] & air_resistance_k['high'], initial_velocity['high'])\n",
    "\n",
    "# rule7 = ctrl.Rule(range_d['high'] & angle_a['low'] & air_resistance_k['low'], initial_velocity['high'])\n",
    "# rule8 = ctrl.Rule(range_d['high'] & angle_a['low'] & air_resistance_k['high'], initial_velocity['high'])\n",
    "# rule9 = ctrl.Rule(range_d['high'] & angle_a['medium'] & air_resistance_k['low'], initial_velocity['low'])\n",
    "# rule10 = ctrl.Rule(range_d['high'] & angle_a['medium'] & air_resistance_k['high'], initial_velocity['low'])\n",
    "# rule11 = ctrl.Rule(range_d['high'] & angle_a['high'] & air_resistance_k['low'], initial_velocity['high'])\n",
    "# rule12 = ctrl.Rule(range_d['high'] & angle_a['high'] & air_resistance_k['high'], initial_velocity['high'])\n",
    "\n",
    "rule1 = ctrl.Rule(range_d['high'] & angle_a['low'] & air_resistance_k['low'], initial_velocity['high'])\n",
    "rule2 = ctrl.Rule(range_d['high'] & angle_a['high'] & air_resistance_k['low'], initial_velocity['high'])\n",
    "rule3 = ctrl.Rule(range_d['high'] & angle_a['medium'] & air_resistance_k['low'], initial_velocity['low'])\n",
    "rule4 = ctrl.Rule(range_d['high'] & angle_a['medium'] & air_resistance_k['low'], initial_velocity['low'])\n",
    "\n",
    "rule5 = ctrl.Rule(range_d['low'] & angle_a['low'] & air_resistance_k['low'], initial_velocity['low'])\n",
    "rule6 = ctrl.Rule(range_d['low'] & angle_a['high'] & air_resistance_k['low'], initial_velocity['low'])\n",
    "rule7 = ctrl.Rule(range_d['high'] & angle_a['medium'] & air_resistance_k['low'], initial_velocity['low'])\n",
    "rule8 = ctrl.Rule(range_d['low'] & angle_a['low'] & air_resistance_k['high'], initial_velocity['low'])\n",
    "rule9 = ctrl.Rule(range_d['low'] & angle_a['high'] & air_resistance_k['high'], initial_velocity['low'])\n",
    "rule10 = ctrl.Rule(range_d['low'] & angle_a['medium'] & air_resistance_k['high'], initial_velocity['low'])\n",
    "\n",
    "# Create the control system\n",
    "initial_velocity_ctrl = ctrl.ControlSystem([rule1, rule2, rule3, rule4, rule5, rule6, rule7, rule8, rule9, rule10])\n",
    "initial_velocity_simulation = ctrl.ControlSystemSimulation(initial_velocity_ctrl)\n",
    "\n",
    "# Pass input values\n",
    "initial_velocity_simulation.input['range'] = 1000\n",
    "initial_velocity_simulation.input['angle'] = 45\n",
    "initial_velocity_simulation.input['air_resistance'] = 0.2\n",
    "\n",
    "# Compute the simulation\n",
    "initial_velocity_simulation.compute()\n",
    "\n",
    "print(initial_velocity_simulation.output['initial_velocity'])"
   ]
  },
  {
   "cell_type": "code",
   "execution_count": 7,
   "metadata": {},
   "outputs": [
    {
     "name": "stdout",
     "output_type": "stream",
     "text": [
      "22.147234590350102\n"
     ]
    }
   ],
   "source": [
    "def calculate_initial_velocity(d, a):\n",
    "    g = 9.81  # przyspieszenie ziemskie\n",
    "    v = np.sqrt((d * g) / np.sin(2 * np.deg2rad(a)))\n",
    "    return v\n",
    "\n",
    "# Przekazanie wartości wejściowych\n",
    "d = 50\n",
    "a = 45\n",
    "\n",
    "# Obliczenie prędkości początkowej\n",
    "v = calculate_initial_velocity(d, a)\n",
    "\n",
    "print(v)"
   ]
  }
 ],
 "metadata": {
  "kernelspec": {
   "display_name": "SWAD",
   "language": "python",
   "name": "python3"
  },
  "language_info": {
   "codemirror_mode": {
    "name": "ipython",
    "version": 3
   },
   "file_extension": ".py",
   "mimetype": "text/x-python",
   "name": "python",
   "nbconvert_exporter": "python",
   "pygments_lexer": "ipython3",
   "version": "3.11.9"
  }
 },
 "nbformat": 4,
 "nbformat_minor": 2
}
