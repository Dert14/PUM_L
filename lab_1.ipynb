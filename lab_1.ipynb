{
 "cells": [
  {
   "cell_type": "code",
   "execution_count": 39,
   "metadata": {},
   "outputs": [],
   "source": [
    "import numpy as np\n",
    "from random import randint\n",
    "from heapq import nsmallest\n",
    "import networkx as nx\n",
    "import matplotlib.pyplot as plt\n",
    "MIN_X = -100\n",
    "MIN_Y = -100\n",
    "MIN_Z = 0\n",
    "MAX_X = 100\n",
    "MAX_Y = 100\n",
    "MAX_Z = 50\n",
    "NUMBER_OF_CONNECTIONS = 2\n",
    "\n",
    "\n",
    "class City:\n",
    "    def __init__(self) -> None:\n",
    "        self.cords = np.array([\n",
    "            randint(MIN_X, MAX_X),\n",
    "            randint(MIN_Y, MAX_Y),\n",
    "            randint(MIN_Z, MAX_Z)\n",
    "        ])\n",
    "        self.connections = []\n",
    "\n",
    "\n",
    "class WebOfCities:\n",
    "    def __init__(self, number_of_cities) -> None:\n",
    "        self.number_of_cities = number_of_cities\n",
    "        self.cities = []\n",
    "        self.create_list_of_cities()\n",
    "\n",
    "    def create_list_of_cities(self):\n",
    "        self.cities = [City() for _ in range(0, self.number_of_cities)]\n",
    "\n",
    "    def create_connections(self):\n",
    "        for city in self.cities:\n",
    "            distance = [np.linalg.norm(city.cords - self.cities[i].cords) for i in range(0, len(self.cities))]\n",
    "            #print(distance)\n",
    "            smalest_values = nsmallest(NUMBER_OF_CONNECTIONS + 1, distance)\n",
    "            nearest_cities = [distance.index(value) for value in smalest_values[1:]]\n",
    "            city.connections = nearest_cities\n",
    "\n",
    "class Graph:\n",
    "    def __init__(self, cities) -> None:\n",
    "        self.cities = cities\n",
    "\n",
    "    def create_adjacency_matrix(self):\n",
    "        print(np.zeros((len(self.cities), (len(self.cities)))))\n",
    "            \n",
    "\n",
    "            \n",
    "\n",
    "\n"
   ]
  },
  {
   "cell_type": "code",
   "execution_count": 40,
   "metadata": {},
   "outputs": [
    {
     "name": "stdout",
     "output_type": "stream",
     "text": [
      "[array([-24,  37,  44]), array([ 51, -47,  42]), array([90, 37, 40]), array([-68,  22,   6]), array([-82, -65,  40]), array([-31, -46,  37]), array([13,  7, 44])]\n",
      "[[0. 0. 0. 0. 0. 0. 0.]\n",
      " [0. 0. 0. 0. 0. 0. 0.]\n",
      " [0. 0. 0. 0. 0. 0. 0.]\n",
      " [0. 0. 0. 0. 0. 0. 0.]\n",
      " [0. 0. 0. 0. 0. 0. 0.]\n",
      " [0. 0. 0. 0. 0. 0. 0.]\n",
      " [0. 0. 0. 0. 0. 0. 0.]]\n"
     ]
    }
   ],
   "source": [
    "web = WebOfCities(7)\n",
    "cords = [city.cords for city in web.cities]\n",
    "print(cords)\n",
    "web.create_connections()\n",
    "# for i in range(len(web.cities)):\n",
    "#     print(web.cities[i].connections)\n",
    "graph = Graph(web.cities)\n",
    "graph.create_adjacency_matrix()\n",
    "\n",
    "\n",
    "\n",
    "    "
   ]
  },
  {
   "cell_type": "code",
   "execution_count": null,
   "metadata": {},
   "outputs": [],
   "source": [
    "def createAdjacencyMatrix(vertices,edges):\n",
    "  noofvertices=len(vertices)\n",
    "  adjM=[]\n",
    "  while(len(adjM)<noofvertices):\n",
    "    temp=[]\n",
    "    for i in range(noofvertices):\n",
    "      temp.append(0)\n",
    "    adjM.append(temp)\n",
    "  for edge in edges:\n",
    "    i=edge[0]\n",
    "    j=edge[1]\n",
    "    if i>=noofvertices or j>=noofvertices or i<0 or j<0:\n",
    "      print(f\"Not a Proper Input in Edge {i},{j}\")\n",
    "    else:\n",
    "      adjM[i][j]=1\n",
    "      adjM[j][i]=1\n",
    "  G=nx.Graph()\n",
    "  G.add_edges_from(edges)\n",
    "  nx.draw_networkx(G)\n",
    "  plt.show()\n",
    "  return adjM\n",
    "\n",
    "vertices=[0,1,2,3,4,5]\n",
    "edges=[[1,4],[5,4],[0,5],[3,5],[4,5],[1,3],[0,3],[0,2],[5,3],[5,1]]\n",
    "\n",
    "createAdjacencyMatrix(vertices, edges)"
   ]
  }
 ],
 "metadata": {
  "kernelspec": {
   "display_name": "SWAD",
   "language": "python",
   "name": "python3"
  },
  "language_info": {
   "codemirror_mode": {
    "name": "ipython",
    "version": 3
   },
   "file_extension": ".py",
   "mimetype": "text/x-python",
   "name": "python",
   "nbconvert_exporter": "python",
   "pygments_lexer": "ipython3",
   "version": "3.11.8"
  }
 },
 "nbformat": 4,
 "nbformat_minor": 2
}
