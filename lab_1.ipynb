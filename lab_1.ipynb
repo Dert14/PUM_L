{
 "cells": [
  {
   "cell_type": "code",
   "execution_count": 389,
   "metadata": {},
   "outputs": [],
   "source": [
    "import numpy as np\n",
    "from random import randint\n",
    "import networkx as nx\n",
    "import matplotlib.pyplot as plt\n",
    "import random\n",
    "MIN_X = -100\n",
    "MIN_Y = -100\n",
    "MIN_Z = 0\n",
    "MAX_X = 100\n",
    "MAX_Y = 100\n",
    "MAX_Z = 50\n",
    "NUMBER_OF_CONNECTIONS = 2\n",
    "NUMBER_OF_CITIES = 4\n",
    "\n",
    "\n",
    "class City:\n",
    "    def __init__(self) -> None:\n",
    "        self.cords = np.array([\n",
    "            randint(MIN_X, MAX_X),\n",
    "            randint(MIN_Y, MAX_Y),\n",
    "            randint(MIN_Z, MAX_Z)\n",
    "        ])\n",
    "        self.distances = []\n",
    "\n",
    "\n",
    "class WebOfCities:\n",
    "    def __init__(self, number_of_cities) -> None:\n",
    "        self.number_of_cities = number_of_cities\n",
    "        self.cities = []\n",
    "        self.create_list_of_cities()\n",
    "\n",
    "    def create_list_of_cities(self):\n",
    "        self.cities = [City() for _ in range(0, self.number_of_cities)]\n",
    "\n",
    "    def create_weighted_connections_100(self):\n",
    "        for city in self.cities:\n",
    "            distance = []\n",
    "            for i in range(0, self.number_of_cities):\n",
    "                if city.cords[2]  > self.cities[i].cords[2]:\n",
    "                    distance.append(np.linalg.norm(city.cords - self.cities[i].cords)*0.9)\n",
    "                elif city.cords[2]  < self.cities[i].cords[2]:\n",
    "                    distance.append(np.linalg.norm(city.cords - self.cities[i].cords)*1.1)\n",
    "                else:\n",
    "                    distance.append(np.linalg.norm(city.cords - self.cities[i].cords))\n",
    "            city.distances = distance\n",
    "\n",
    "    def create_weighted_connections_80(self):\n",
    "        for city in self.cities:\n",
    "            distance = []\n",
    "            for i in range(0, self.number_of_cities):\n",
    "                if city.cords[2]  > self.cities[i].cords[2]:\n",
    "                    actual_distance = np.linalg.norm(city.cords - self.cities[i].cords)*0.9\n",
    "                elif city.cords[2]  < self.cities[i].cords[2]:\n",
    "                    actual_distance = np.linalg.norm(city.cords - self.cities[i].cords)*1.1\n",
    "                else:\n",
    "                    actual_distance = np.linalg.norm(city.cords - self.cities[i].cords)\n",
    "                if random.random() > 0.2:\n",
    "                    distance.append(actual_distance)\n",
    "                else:\n",
    "                    distance.append(0)\n",
    "            city.distances = distance\n",
    "\n",
    "    def create_connections_100(self):\n",
    "        for city in self.cities:\n",
    "            distance = [np.linalg.norm(city.cords - self.cities[i].cords) for i in range(0, len(self.cities))]\n",
    "            city.distances = distance\n",
    "    \n",
    "    def create_connections_80(self):\n",
    "        for city in self.cities:\n",
    "            distance = []\n",
    "            for i in range(0, self.number_of_cities):\n",
    "                if random.random() > 0.2:\n",
    "                    distance.append(np.linalg.norm(city.cords - self.cities[i].cords))\n",
    "                else:\n",
    "                    distance.append(0)\n",
    "            city.distances = distance\n",
    "\n",
    "class Graph:\n",
    "    def __init__(self, cities) -> None:\n",
    "        self.cities = cities\n",
    "\n",
    "    def create_adjacency_matrix(self):\n",
    "        adjacency_matrix_ls = []\n",
    "        for city in self.cities:\n",
    "            list_of_distance = []\n",
    "            for distance in city.distances:\n",
    "                list_of_distance.append(distance)\n",
    "            adjacency_matrix_ls.append(list_of_distance)\n",
    "        adjacency_matrix = np.array(adjacency_matrix_ls)\n",
    "        return adjacency_matrix\n",
    "\n",
    "    def create_adjacency_weighted_matrix(self):\n",
    "        adjacency_matrix_ls = []\n",
    "        for city in self.cities:\n",
    "            list_of_distance = []\n",
    "            for distance in city.distances:\n",
    "                list_of_distance.append(distance)\n",
    "            adjacency_matrix_ls.append(list_of_distance)\n",
    "        adjacency_matrix = np.array(adjacency_matrix_ls)\n",
    "        return adjacency_matrix\n"
   ]
  },
  {
   "cell_type": "code",
   "execution_count": 390,
   "metadata": {},
   "outputs": [],
   "source": [
    "class PathCounter:\n",
    "    def __init__(self, adjacency_matrix, all_paths) -> None:\n",
    "        self.adjacency_matrix = adjacency_matrix\n",
    "        self.all_paths = all_paths\n",
    "        self.all_distances = []\n",
    "        self.index_of_min_distance = 0\n",
    "\n",
    "    def count_all_distances(self):\n",
    "        for path in self.all_paths:\n",
    "            distance = 0\n",
    "            for i in range(len(path)-1):\n",
    "                distance += self.adjacency_matrix[path[i]][path[i+1]]\n",
    "                # if self.adjacency_matrix[path[i]][path[i+1]] == 0:\n",
    "                #    print(\"error\")\n",
    "            self.all_distances.append(distance)\n",
    "\n",
    "    def print_min_possible_path(self):\n",
    "        min_distance = min(self.all_distances)\n",
    "        self.index_of_min_distance = self.all_distances.index(min_distance)\n",
    "        print(f\"min distance is {min_distance} for path\")\n",
    "        print(self.all_paths[self.index_of_min_distance])\n",
    "            \n"
   ]
  },
  {
   "cell_type": "code",
   "execution_count": 391,
   "metadata": {},
   "outputs": [],
   "source": [
    "class BranchAlgorytm:\n",
    "    def __init__(self, graph, start) -> None:\n",
    "        self.graph = graph\n",
    "        self.start = start\n",
    "\n",
    "    def tsp_dfs(self):\n",
    "        all_paths = []\n",
    "        num_cities = len(self.graph)\n",
    "        stack = [[self.start]]  # Stack to keep track of current path\n",
    "\n",
    "        while stack:\n",
    "            path = stack.pop(0)  # Pop the current path from stack\n",
    "            curr_city = path[-1]  # Get the current city\n",
    "\n",
    "            if len(path) == num_cities:  # If all cities visited\n",
    "                last_city = path[-1]\n",
    "                if self.graph[last_city][0] != 0:\n",
    "                    path.append(0)\n",
    "                    all_paths.append(path)\n",
    "                    #print(path)\n",
    "                continue\n",
    "\n",
    "            # Explore all unvisited neighbors of current city\n",
    "            for next_city in range(num_cities):\n",
    "                if next_city not in path and self.graph[curr_city][next_city] != 0:\n",
    "                    stack.append(path + [next_city])  # Push updated path onto stack\n",
    "                    #print(stack)\n",
    "\n",
    "        return all_paths\n",
    "    \n",
    "    def tsp_bfs(self):\n",
    "        all_paths = []\n",
    "        num_cities = len(self.graph)\n",
    "        stack = [[self.start]]  # Stack to keep track of current path\n",
    "\n",
    "        while stack:\n",
    "            path = stack.pop()  # Pop the current path from stack\n",
    "            curr_city = path[-1]  # Get the current city\n",
    "\n",
    "            if len(path) == num_cities:  # If all cities visited\n",
    "                last_city = path[-1]\n",
    "                if self.graph[last_city][0] != 0:\n",
    "                    path.append(0)\n",
    "                    all_paths.append(path)\n",
    "                    #print(path)\n",
    "                continue\n",
    "\n",
    "            # Explore all unvisited neighbors of current city\n",
    "            for next_city in range(num_cities):\n",
    "                if next_city not in path and self.graph[curr_city][next_city] != 0:\n",
    "                    stack.append(path + [next_city])  # Push updated path onto stack\n",
    "                    #print(stack)\n",
    "\n",
    "        return all_paths\n",
    "    "
   ]
  },
  {
   "cell_type": "code",
   "execution_count": 392,
   "metadata": {},
   "outputs": [
    {
     "name": "stdout",
     "output_type": "stream",
     "text": [
      "[[  0.          69.70652767  62.72160712  60.9672043   90.42676595]\n",
      " [ 69.70652767   0.          27.58622845 104.6995702  125.35549449]\n",
      " [ 62.72160712  27.58622845   0.         102.43534546 131.82943526]\n",
      " [ 60.9672043  104.6995702  102.43534546   0.          44.74371464]\n",
      " [ 90.42676595 125.35549449 131.82943526  44.74371464   0.        ]]\n"
     ]
    }
   ],
   "source": [
    "START_CITY = 0\n",
    "\n",
    "\n",
    "web = WebOfCities(5)\n",
    "graph = Graph(web.cities)\n",
    "web.create_connections_100()\n",
    "adjacency_matrix = graph.create_adjacency_matrix()\n",
    "print(adjacency_matrix)\n",
    "\n"
   ]
  },
  {
   "cell_type": "code",
   "execution_count": 393,
   "metadata": {},
   "outputs": [
    {
     "name": "stdout",
     "output_type": "stream",
     "text": [
      "min distance is 321.37424900629037 for path\n",
      "[0, 2, 1, 4, 3, 0]\n",
      "min distance is 321.37424900629037 for path\n",
      "[0, 3, 4, 1, 2, 0]\n"
     ]
    }
   ],
   "source": [
    "\n",
    "branch_algorytms = BranchAlgorytm(adjacency_matrix, START_CITY)\n",
    "all_paths = branch_algorytms.tsp_dfs()\n",
    "path_counter = PathCounter(adjacency_matrix, all_paths)\n",
    "path_counter.count_all_distances()\n",
    "path_counter.print_min_possible_path()\n",
    "# print(path_counter.all_paths)\n",
    "# print(path_counter.all_distances)\n",
    "# print(path_counter.index_of_min_distance)\n",
    "all_paths = branch_algorytms.tsp_bfs()\n",
    "path_counter = PathCounter(adjacency_matrix, all_paths)\n",
    "path_counter.count_all_distances()\n",
    "path_counter.print_min_possible_path()\n",
    "# print(path_counter.all_paths)\n",
    "# print(path_counter.all_distances)\n",
    "# print(path_counter.index_of_min_distance)\n"
   ]
  },
  {
   "cell_type": "code",
   "execution_count": 394,
   "metadata": {},
   "outputs": [
    {
     "name": "stdout",
     "output_type": "stream",
     "text": [
      "[[  0.          13.60147051  16.64331698 190.2472076  170.9210344 ]\n",
      " [  0.           0.          29.15475947 187.64061394 175.63883397]\n",
      " [ 16.64331698  29.15475947   0.         185.81980519 160.01562424]\n",
      " [190.2472076  187.64061394 185.81980519   0.         128.5301521 ]\n",
      " [170.9210344  175.63883397 160.01562424 128.5301521    0.        ]]\n"
     ]
    }
   ],
   "source": [
    "START_CITY = 0\n",
    "\n",
    "\n",
    "web = WebOfCities(5)\n",
    "graph = Graph(web.cities)\n",
    "web.create_connections_80()\n",
    "adjacency_matrix = graph.create_adjacency_matrix()\n",
    "print(adjacency_matrix)"
   ]
  },
  {
   "cell_type": "code",
   "execution_count": 395,
   "metadata": {},
   "outputs": [
    {
     "name": "stdout",
     "output_type": "stream",
     "text": [
      "min distance is 506.4311777680267 for path\n",
      "[0, 1, 3, 4, 2, 0]\n",
      "min distance is 506.4311777680267 for path\n",
      "[0, 1, 3, 4, 2, 0]\n"
     ]
    }
   ],
   "source": [
    "branch_algorytms = BranchAlgorytm(adjacency_matrix, START_CITY)\n",
    "all_paths = branch_algorytms.tsp_dfs()\n",
    "path_counter = PathCounter(adjacency_matrix, all_paths)\n",
    "path_counter.count_all_distances()\n",
    "path_counter.print_min_possible_path()\n",
    "# print(path_counter.all_paths)\n",
    "# print(path_counter.all_distances)\n",
    "# print(path_counter.index_of_min_distance)\n",
    "all_paths = branch_algorytms.tsp_bfs()\n",
    "path_counter = PathCounter(adjacency_matrix, all_paths)\n",
    "path_counter.count_all_distances()\n",
    "path_counter.print_min_possible_path()\n",
    "# print(path_counter.all_paths)\n",
    "# print(path_counter.all_distances)\n",
    "# print(path_counter.index_of_min_distance)\n",
    "\n"
   ]
  },
  {
   "cell_type": "code",
   "execution_count": 396,
   "metadata": {},
   "outputs": [
    {
     "name": "stdout",
     "output_type": "stream",
     "text": [
      "[[  0.         109.30091491  88.281425    76.85056929  95.6747093 ]\n",
      " [133.59000711   0.         199.00577881 109.48177931 178.40358741]\n",
      " [ 72.23025682 162.82290994   0.          98.09138596  44.79040076]\n",
      " [ 62.87773851  89.57600125  80.25658851   0.          69.44825412]\n",
      " [ 78.27930761 145.96657152  36.64669153  56.82129882   0.        ]]\n"
     ]
    }
   ],
   "source": [
    "START_CITY = 0\n",
    "\n",
    "\n",
    "web = WebOfCities(5)\n",
    "graph = Graph(web.cities)\n",
    "web.create_weighted_connections_100()\n",
    "adjacency_matrix = graph.create_adjacency_weighted_matrix()\n",
    "print(adjacency_matrix)\n",
    "\n"
   ]
  },
  {
   "cell_type": "code",
   "execution_count": 397,
   "metadata": {},
   "outputs": [
    {
     "name": "stdout",
     "output_type": "stream",
     "text": [
      "min distance is 397.10789667968726 for path\n",
      "[0, 1, 3, 4, 2, 0]\n",
      "min distance is 397.10789667968726 for path\n",
      "[0, 1, 3, 4, 2, 0]\n"
     ]
    }
   ],
   "source": [
    "branch_algorytms = BranchAlgorytm(adjacency_matrix, START_CITY)\n",
    "all_paths = branch_algorytms.tsp_dfs()\n",
    "path_counter = PathCounter(adjacency_matrix, all_paths)\n",
    "path_counter.count_all_distances()\n",
    "path_counter.print_min_possible_path()\n",
    "# print(path_counter.all_paths)\n",
    "# print(path_counter.all_distances)\n",
    "# print(path_counter.index_of_min_distance)\n",
    "all_paths = branch_algorytms.tsp_bfs()\n",
    "path_counter = PathCounter(adjacency_matrix, all_paths)\n",
    "path_counter.count_all_distances()\n",
    "path_counter.print_min_possible_path()\n",
    "# print(path_counter.all_paths)\n",
    "# print(path_counter.all_distances)\n",
    "# print(path_counter.index_of_min_distance)\n"
   ]
  },
  {
   "cell_type": "code",
   "execution_count": 398,
   "metadata": {},
   "outputs": [
    {
     "name": "stdout",
     "output_type": "stream",
     "text": [
      "[[  0.         169.58971077 101.9267384  122.0852571  143.12546943]\n",
      " [  0.           0.         176.68675672 159.59718043 193.37799771]\n",
      " [124.57712471 215.95048043   0.          41.87230588   0.        ]\n",
      " [149.21531423 195.06322052  34.25915936   0.           0.        ]\n",
      " [174.93112931   0.          70.60269117  41.23336028   0.        ]]\n"
     ]
    }
   ],
   "source": [
    "START_CITY = 0\n",
    "\n",
    "\n",
    "web = WebOfCities(5)\n",
    "graph = Graph(web.cities)\n",
    "web.create_weighted_connections_80()\n",
    "adjacency_matrix = graph.create_adjacency_weighted_matrix()\n",
    "print(adjacency_matrix)\n",
    "\n"
   ]
  },
  {
   "cell_type": "code",
   "execution_count": 399,
   "metadata": {},
   "outputs": [
    {
     "name": "stdout",
     "output_type": "stream",
     "text": [
      "min distance is 563.0373528325109 for path\n",
      "[0, 1, 4, 3, 2, 0]\n",
      "min distance is 563.0373528325109 for path\n",
      "[0, 1, 4, 3, 2, 0]\n"
     ]
    }
   ],
   "source": [
    "branch_algorytms = BranchAlgorytm(adjacency_matrix, START_CITY)\n",
    "all_paths = branch_algorytms.tsp_dfs()\n",
    "path_counter = PathCounter(adjacency_matrix, all_paths)\n",
    "path_counter.count_all_distances()\n",
    "path_counter.print_min_possible_path()\n",
    "# print(path_counter.all_paths)\n",
    "# print(path_counter.all_distances)\n",
    "# print(path_counter.index_of_min_distance)\n",
    "all_paths = branch_algorytms.tsp_bfs()\n",
    "path_counter = PathCounter(adjacency_matrix, all_paths)\n",
    "path_counter.count_all_distances()\n",
    "path_counter.print_min_possible_path()\n",
    "# print(path_counter.all_paths)\n",
    "# print(path_counter.all_distances)\n",
    "# print(path_counter.index_of_min_distance)"
   ]
  }
 ],
 "metadata": {
  "kernelspec": {
   "display_name": "SWAD",
   "language": "python",
   "name": "python3"
  },
  "language_info": {
   "codemirror_mode": {
    "name": "ipython",
    "version": 3
   },
   "file_extension": ".py",
   "mimetype": "text/x-python",
   "name": "python",
   "nbconvert_exporter": "python",
   "pygments_lexer": "ipython3",
   "version": "3.11.8"
  }
 },
 "nbformat": 4,
 "nbformat_minor": 2
}
